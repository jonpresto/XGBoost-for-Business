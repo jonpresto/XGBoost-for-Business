{
 "cells": [
  {
   "cell_type": "code",
   "execution_count": 3,
   "id": "b36928eb",
   "metadata": {},
   "outputs": [],
   "source": [
    "#import libraries\n",
    "import pandas as pd\n",
    "import xgboost as xgb\n",
    "import numpy as np"
   ]
  },
  {
   "cell_type": "code",
   "execution_count": 4,
   "id": "655731ae",
   "metadata": {},
   "outputs": [
    {
     "data": {
      "text/plain": [
       "age           int64\n",
       "job          object\n",
       "marital      object\n",
       "education    object\n",
       "default      object\n",
       "balance       int64\n",
       "housing      object\n",
       "loan         object\n",
       "contact      object\n",
       "day           int64\n",
       "month        object\n",
       "duration      int64\n",
       "campaign      int64\n",
       "pdays         int64\n",
       "previous      int64\n",
       "poutcome     object\n",
       "y            object\n",
       "dtype: object"
      ]
     },
     "execution_count": 4,
     "metadata": {},
     "output_type": "execute_result"
    }
   ],
   "source": [
    "#importing dataset\n",
    "dataset = pd.read_csv(\"bank-full.csv\", sep = \";\")\n",
    "dataset.dtypes"
   ]
  },
  {
   "cell_type": "code",
   "execution_count": 5,
   "id": "185d2f79",
   "metadata": {},
   "outputs": [],
   "source": [
    "#isolate the x and y variables\n",
    "y = dataset.iloc[:, -1].values\n",
    "X = dataset._get_numeric_data()"
   ]
  },
  {
   "cell_type": "code",
   "execution_count": 6,
   "id": "0555922d",
   "metadata": {},
   "outputs": [],
   "source": [
    "#split dataset into training and test set\n",
    "from sklearn.model_selection import train_test_split\n",
    "X_train, X_test, y_train, y_test = train_test_split(X, y,\n",
    "                                                    test_size =0.2,\n",
    "                                                    random_state=1502)"
   ]
  },
  {
   "cell_type": "code",
   "execution_count": 7,
   "id": "3aa1b0f0",
   "metadata": {},
   "outputs": [
    {
     "name": "stdout",
     "output_type": "stream",
     "text": [
      "Mean of y_train: 0.11579296615792967\n",
      "Mean of y_test: 0.12175163109587527\n"
     ]
    }
   ],
   "source": [
    "#transform y factor variables\n",
    "y_train = np.where(y_train == \"yes\", 1, 0)\n",
    "y_test = np.where(y_test == \"yes\", 1, 0)\n",
    "np.mean(y_train)\n",
    "print(\"Mean of y_train: \" + str(np.mean(y_train)))\n",
    "print(\"Mean of y_test: \" + str(np.mean(y_test)))"
   ]
  },
  {
   "cell_type": "markdown",
   "id": "e48465e5",
   "metadata": {},
   "source": [
    "Sanity check to see if distribution of target value is the same in both `y_train` and `y_test`.  In this case, they are relatively close, around 12% of 100 people would indicate `yes (1)` to the product offering."
   ]
  },
  {
   "cell_type": "markdown",
   "id": "1e978241",
   "metadata": {},
   "source": [
    "### DMatrix\n",
    "Data Matrix is used in XGBoost.\n",
    "\n",
    "`DMatrix` is an internal data structure that is used by XGBoost which is optimized for both memory efficiency and training speed.  You can construct DMatrix from numpy arrays."
   ]
  },
  {
   "cell_type": "code",
   "execution_count": 8,
   "id": "2200b70d",
   "metadata": {},
   "outputs": [],
   "source": [
    "#create xgboost matrices\n",
    "Train = xgb.DMatrix(X_train, label = y_train)\n",
    "Test = xgb.DMatrix(X_test, label = y_test)"
   ]
  },
  {
   "cell_type": "code",
   "execution_count": 9,
   "id": "644c0105",
   "metadata": {},
   "outputs": [],
   "source": [
    "#set the parameters\n",
    "parameters1 = {'learning_rate': 0.3,\n",
    "               'max_depth': 2,\n",
    "               'colsample_bytree': 1,\n",
    "               'subsample': 1,\n",
    "               'min_child_weight': 1,\n",
    "               'gamma': 0, \n",
    "               'random_state': 1502,\n",
    "               'eval_metric': \"auc\",\n",
    "               'objective': \"binary:logistic\"}"
   ]
  },
  {
   "cell_type": "code",
   "execution_count": 10,
   "id": "e77864f2",
   "metadata": {},
   "outputs": [
    {
     "name": "stdout",
     "output_type": "stream",
     "text": [
      "[0]\tYes-auc:0.73930\n",
      "[50]\tYes-auc:0.87648\n",
      "[100]\tYes-auc:0.87997\n",
      "[150]\tYes-auc:0.88189\n",
      "[199]\tYes-auc:0.88308\n"
     ]
    }
   ],
   "source": [
    "#run XGBoost\n",
    "model1 = xgb.train(params = parameters1,\n",
    "                   dtrain = Train,\n",
    "                   num_boost_round = 200,\n",
    "                   evals = [(Test, \"Yes\")],\n",
    "                   verbose_eval = 50)"
   ]
  },
  {
   "cell_type": "code",
   "execution_count": 11,
   "id": "4074f1a8",
   "metadata": {},
   "outputs": [],
   "source": [
    "#PRedictions\n",
    "predictions1 = model1.predict(Test)\n",
    "predictions1 = np.where(predictions1 > 0.5, 1, 0)"
   ]
  },
  {
   "cell_type": "code",
   "execution_count": 12,
   "id": "3d18aba6",
   "metadata": {},
   "outputs": [
    {
     "name": "stdout",
     "output_type": "stream",
     "text": [
      "[[7698  244]\n",
      " [ 746  355]]\n",
      "              precision    recall  f1-score   support\n",
      "\n",
      "           0       0.91      0.97      0.94      7942\n",
      "           1       0.59      0.32      0.42      1101\n",
      "\n",
      "    accuracy                           0.89      9043\n",
      "   macro avg       0.75      0.65      0.68      9043\n",
      "weighted avg       0.87      0.89      0.88      9043\n",
      "\n"
     ]
    }
   ],
   "source": [
    "#Confusion Matrix\n",
    "from sklearn.metrics import confusion_matrix\n",
    "from sklearn.metrics import classification_report\n",
    "\n",
    "confusion_matrix1 = confusion_matrix(y_test, predictions1)\n",
    "print(confusion_matrix1)\n",
    "report1 = classification_report(y_test, predictions1)\n",
    "print(report1)"
   ]
  },
  {
   "cell_type": "markdown",
   "id": "edfd854e",
   "metadata": {},
   "source": [
    "### Transform categorical variables into dummy variables"
   ]
  },
  {
   "cell_type": "code",
   "execution_count": 13,
   "id": "85b4cf9f",
   "metadata": {},
   "outputs": [],
   "source": [
    "#isolate the categorical variables\n",
    "dataset_categorical = dataset.select_dtypes(exclude = \"number\")\n",
    "\n",
    "#tranform categorical variables into dummy variables\n",
    "dataset_categorical = pd.get_dummies(data = dataset_categorical,\n",
    "                                     drop_first = True)"
   ]
  },
  {
   "cell_type": "code",
   "execution_count": 14,
   "id": "ab12de59",
   "metadata": {},
   "outputs": [],
   "source": [
    "#joining numerical and categorical datasets\n",
    "final_dataset = pd.concat([X, dataset_categorical], axis = 1)"
   ]
  },
  {
   "cell_type": "code",
   "execution_count": 15,
   "id": "dfdea75b",
   "metadata": {},
   "outputs": [],
   "source": [
    "#getting names of columns\n",
    "feature_columns = list(final_dataset.columns.values)\n",
    "feature_columns = feature_columns[:-1]"
   ]
  },
  {
   "cell_type": "code",
   "execution_count": 16,
   "id": "b0fa55ef",
   "metadata": {},
   "outputs": [],
   "source": [
    "#isolate the x and y variables part 2\n",
    "y = final_dataset.iloc[:, -1].values\n",
    "X = final_dataset.iloc[:, :-1].values"
   ]
  },
  {
   "cell_type": "code",
   "execution_count": 17,
   "id": "70012cd1",
   "metadata": {},
   "outputs": [],
   "source": [
    "#split dataset into training and test set\n",
    "X_train, X_test, y_train, y_test = train_test_split(X, y,\n",
    "                                                    test_size =0.2,\n",
    "                                                    random_state=1502)"
   ]
  },
  {
   "cell_type": "code",
   "execution_count": 18,
   "id": "ef1fee74",
   "metadata": {},
   "outputs": [],
   "source": [
    "#create xgboost matrices part 2\n",
    "Train = xgb.DMatrix(X_train, label = y_train, feature_names = feature_columns)\n",
    "Test = xgb.DMatrix(X_test, label = y_test, feature_names = feature_columns)"
   ]
  },
  {
   "cell_type": "code",
   "execution_count": 19,
   "id": "8a4a8272",
   "metadata": {},
   "outputs": [],
   "source": [
    "#set the parameters part 2\n",
    "parameters2 = {'learning_rate': 0.3,\n",
    "               'max_depth': 2,\n",
    "               'colsample_bytree': 1,\n",
    "               'subsample': 1,\n",
    "               'min_child_weight': 1,\n",
    "               'gamma': 0, \n",
    "               'random_state': 1502,\n",
    "               'eval_metric': \"auc\",\n",
    "               'objective': \"binary:logistic\"}"
   ]
  },
  {
   "cell_type": "code",
   "execution_count": 20,
   "id": "88a5d28d",
   "metadata": {},
   "outputs": [
    {
     "name": "stdout",
     "output_type": "stream",
     "text": [
      "[0]\tYes-auc:0.73159\n",
      "[50]\tYes-auc:0.91883\n",
      "[100]\tYes-auc:0.92524\n",
      "[150]\tYes-auc:0.92744\n",
      "[199]\tYes-auc:0.92748\n"
     ]
    }
   ],
   "source": [
    "#run XGBoost\n",
    "model2 = xgb.train(params = parameters2,\n",
    "                   dtrain = Train,\n",
    "                   num_boost_round = 200,\n",
    "                   evals = [(Test, \"Yes\")],\n",
    "                   verbose_eval = 50)"
   ]
  },
  {
   "cell_type": "code",
   "execution_count": 21,
   "id": "bda41983",
   "metadata": {},
   "outputs": [],
   "source": [
    "#Predictions part 2\n",
    "predictions2 = model2.predict(Test)\n",
    "predictions2 = np.where(predictions2 > 0.5, 1, 0)"
   ]
  },
  {
   "cell_type": "code",
   "execution_count": 22,
   "id": "1a28bab7",
   "metadata": {},
   "outputs": [
    {
     "name": "stdout",
     "output_type": "stream",
     "text": [
      "[[7662  280]\n",
      " [ 629  472]]\n",
      "              precision    recall  f1-score   support\n",
      "\n",
      "           0       0.92      0.96      0.94      7942\n",
      "           1       0.63      0.43      0.51      1101\n",
      "\n",
      "    accuracy                           0.90      9043\n",
      "   macro avg       0.78      0.70      0.73      9043\n",
      "weighted avg       0.89      0.90      0.89      9043\n",
      "\n"
     ]
    }
   ],
   "source": [
    "#Confusion Matrix\n",
    "confusion_matrix2 = confusion_matrix(y_test, predictions2)\n",
    "print(confusion_matrix2)\n",
    "report2 = classification_report(y_test, predictions2)\n",
    "print(report2)"
   ]
  },
  {
   "cell_type": "markdown",
   "id": "331030c7",
   "metadata": {},
   "source": [
    "We see an improvement in the f1-score from 0.42 to 0.51 for class 1 after adding categorical features"
   ]
  },
  {
   "cell_type": "code",
   "execution_count": 23,
   "id": "b88285bc",
   "metadata": {},
   "outputs": [
    {
     "data": {
      "text/plain": [
       "8"
      ]
     },
     "execution_count": 23,
     "metadata": {},
     "output_type": "execute_result"
    }
   ],
   "source": [
    "#checking how many cores we have\n",
    "import multiprocessing\n",
    "multiprocessing.cpu_count()"
   ]
  },
  {
   "cell_type": "code",
   "execution_count": 24,
   "id": "6eb08137",
   "metadata": {},
   "outputs": [],
   "source": [
    "#setting the cross validation parameters\n",
    "from sklearn.model_selection import KFold\n",
    "tune_control = KFold(n_splits = 5,\n",
    "                     shuffle = True,\n",
    "                     random_state = 1502).split(X = X_train,\n",
    "                                                y = y_train)\n",
    "                                                "
   ]
  },
  {
   "cell_type": "code",
   "execution_count": 25,
   "id": "fe2a6afb",
   "metadata": {},
   "outputs": [],
   "source": [
    "#set parameter tuning\n",
    "#set the parameters part 2\n",
    "tune_grid = {'learning_rate': [0.05, 0.3], #search\n",
    "               'max_depth': range(2, 9, 2), #search\n",
    "               'colsample_bytree': [0.5, 1], #search\n",
    "               'subsample': [1],\n",
    "               'min_child_weight': [1],\n",
    "               'gamma': [0], \n",
    "               'random_state': [1502],\n",
    "               'n_estimators': range(200, 2000, 200), #search\n",
    "               'booster': [\"gbtree\"]}    "
   ]
  },
  {
   "cell_type": "code",
   "execution_count": 26,
   "id": "c024f5f8",
   "metadata": {},
   "outputs": [],
   "source": [
    "#State that we are doing a classification problem\n",
    "from xgboost import XGBClassifier\n",
    "classifier = XGBClassifier(objective = \"binary:logistic\")"
   ]
  },
  {
   "cell_type": "code",
   "execution_count": 27,
   "id": "a4cabe6a",
   "metadata": {},
   "outputs": [],
   "source": [
    "#Cross Validation Assembly\n",
    "from sklearn.model_selection import GridSearchCV\n",
    "grid_search = GridSearchCV(estimator = classifier,\n",
    "                           param_grid = tune_grid,\n",
    "                            scoring = \"roc_auc\",\n",
    "                            n_jobs = 6,\n",
    "                            cv = tune_control,\n",
    "                            verbose = 5)"
   ]
  },
  {
   "cell_type": "code",
   "execution_count": 28,
   "id": "e6ba5be8",
   "metadata": {},
   "outputs": [],
   "source": [
    "#Setting evaluation parameters\n",
    "evaluation_parameters = {\"early_stopping_rounds\": 100,\n",
    "                         \"eval_metric\": \"auc\",\n",
    "                         \"eval_set\": [(X_test, y_test)]}"
   ]
  },
  {
   "cell_type": "code",
   "execution_count": 29,
   "id": "7295d5f3",
   "metadata": {},
   "outputs": [],
   "source": [
    "#Hyperparameter tuning and cross validation\n",
    "#tune_model = grid_search.fit(X = X_train,\n",
    "#                             y = y_train,\n",
    "#                             **evaluation_parameters)\n",
    "#grid_search.best_params_, grid_search.best_score_"
   ]
  },
  {
   "cell_type": "markdown",
   "id": "1374193b",
   "metadata": {},
   "source": [
    "Theory behind hyperparameters:\\\n",
    "YouTube Link: https://www.youtube.com/watch?v=AvWfL1Us3Kg\n",
    "\n",
    "Uncomment cell above to rerun pass1 (2 hours to run)\n",
    "\n",
    "Results from tuning pass 1:\n",
    "\n",
    "<b>best params</b>:\\\n",
    "{'booster': 'gbtree',\\\n",
    "'colsample_bytree': 0.5,\\\n",
    "'gamma': 0,\\\n",
    "'learning_rate': 0.05,\\\n",
    "'max_depth': 8,\\\n",
    "'min_child_weight': 1,\\\n",
    "'n_estimators': 400,\\\n",
    "'random_state': 1502,\\\n",
    "'subsample': 1},\n",
    "\n",
    "<b>best score</b>:\\\n",
    "0.9355509"
   ]
  },
  {
   "cell_type": "code",
   "execution_count": 30,
   "id": "2dba2e0f",
   "metadata": {},
   "outputs": [],
   "source": [
    "#setting the cross validation parameters\n",
    "from sklearn.model_selection import KFold\n",
    "tune_control = KFold(n_splits = 5,\n",
    "                     shuffle = True,\n",
    "                     random_state = 1502).split(X = X_train,\n",
    "                                                y = y_train)"
   ]
  },
  {
   "cell_type": "code",
   "execution_count": 33,
   "id": "fa06f6a5",
   "metadata": {},
   "outputs": [],
   "source": [
    "#set parameter tuning\n",
    "#set the parameters part 3\n",
    "tune_grid2 = {'learning_rate': [0.05], \n",
    "               'max_depth': [8],\n",
    "               'colsample_bytree': [0.5], \n",
    "               'subsample': [0.9, 1], #search\n",
    "               'min_child_weight': range(1,5,1), #search\n",
    "               'gamma': [0, 0.1], #search\n",
    "               'random_state': [1502],\n",
    "               'n_estimators': range(200, 2000, 200), #search\n",
    "               'booster': [\"gbtree\"]}    "
   ]
  },
  {
   "cell_type": "code",
   "execution_count": 34,
   "id": "52db5afe",
   "metadata": {},
   "outputs": [],
   "source": [
    "#Cross Validation Assembly\n",
    "from sklearn.model_selection import GridSearchCV\n",
    "grid_search2 = GridSearchCV(estimator = classifier,\n",
    "                           param_grid = tune_grid2,\n",
    "                            scoring = \"roc_auc\",\n",
    "                            n_jobs = 6,\n",
    "                            cv = tune_control,\n",
    "                            verbose = 5)"
   ]
  },
  {
   "cell_type": "code",
   "execution_count": 36,
   "id": "28379930",
   "metadata": {},
   "outputs": [],
   "source": [
    "#Hyperparameter tuning and cross validation\n",
    "#tune_model2 = grid_search2.fit(X = X_train,\n",
    "#                             y = y_train,\n",
    "#                             **evaluation_parameters)\n",
    "#grid_search2.best_params_, grid_search2.best_score_\n"
   ]
  },
  {
   "cell_type": "markdown",
   "id": "d5f1a824",
   "metadata": {},
   "source": [
    "Results from tuning pass 2:\n",
    "\n",
    "<b>best params</b>:\\\n",
    "{'booster': 'gbtree',\\\n",
    "'colsample_bytree': 0.5,\\\n",
    "'gamma': 0.1,\\\n",
    "'learning_rate': 0.05,\\\n",
    "'max_depth': 8,\\\n",
    "'min_child_weight': 1,\\\n",
    "'n_estimators': 200,\\\n",
    "'random_state': 1502,\\\n",
    "'subsample': 1},\n",
    "\n",
    "<b>best score</b>:\\\n",
    "0.9356276"
   ]
  },
  {
   "cell_type": "code",
   "execution_count": 37,
   "id": "95d7358d",
   "metadata": {},
   "outputs": [],
   "source": [
    "#set the parameters part 3\n",
    "parameters3 = {'learning_rate': 0.05,\n",
    "               'max_depth': 8,\n",
    "               'colsample_bytree': 0.5,\n",
    "               'subsample': 1,\n",
    "               'min_child_weight': 1,\n",
    "               'gamma': 0.1, \n",
    "               'random_state': 1502,\n",
    "               'eval_metric': \"auc\",\n",
    "               'objective': \"binary:logistic\"}"
   ]
  },
  {
   "cell_type": "code",
   "execution_count": 38,
   "id": "b10ebf57",
   "metadata": {},
   "outputs": [
    {
     "name": "stdout",
     "output_type": "stream",
     "text": [
      "[0]\tYes-auc:0.85996\n",
      "[50]\tYes-auc:0.92239\n",
      "[100]\tYes-auc:0.92957\n",
      "[150]\tYes-auc:0.93159\n",
      "[200]\tYes-auc:0.93245\n",
      "[250]\tYes-auc:0.93240\n",
      "[300]\tYes-auc:0.93222\n",
      "[350]\tYes-auc:0.93235\n",
      "[400]\tYes-auc:0.93240\n",
      "[450]\tYes-auc:0.93232\n",
      "[500]\tYes-auc:0.93198\n",
      "[550]\tYes-auc:0.93201\n",
      "[600]\tYes-auc:0.93193\n",
      "[650]\tYes-auc:0.93205\n",
      "[700]\tYes-auc:0.93204\n",
      "[750]\tYes-auc:0.93187\n",
      "[799]\tYes-auc:0.93165\n"
     ]
    }
   ],
   "source": [
    "#run XGBoost part 3\n",
    "model3 = xgb.train(params = parameters3,\n",
    "                   dtrain = Train,\n",
    "                   num_boost_round = 800,\n",
    "                   evals = [(Test, \"Yes\")],\n",
    "                   verbose_eval = 50)"
   ]
  },
  {
   "cell_type": "code",
   "execution_count": 44,
   "id": "7d4e84fa",
   "metadata": {},
   "outputs": [],
   "source": [
    "#Predictions part 3\n",
    "predictions3 = model3.predict(Test)\n",
    "predictions3 = np.where(predictions3 > 0.50, 1, 0)"
   ]
  },
  {
   "cell_type": "code",
   "execution_count": 45,
   "id": "94162f52",
   "metadata": {},
   "outputs": [
    {
     "name": "stdout",
     "output_type": "stream",
     "text": [
      "[[7641  301]\n",
      " [ 581  520]]\n",
      "              precision    recall  f1-score   support\n",
      "\n",
      "           0       0.93      0.96      0.95      7942\n",
      "           1       0.63      0.47      0.54      1101\n",
      "\n",
      "    accuracy                           0.90      9043\n",
      "   macro avg       0.78      0.72      0.74      9043\n",
      "weighted avg       0.89      0.90      0.90      9043\n",
      "\n"
     ]
    }
   ],
   "source": [
    "#Confusion Matrix\n",
    "confusion_matrix3 = confusion_matrix(y_test, predictions3)\n",
    "print(confusion_matrix3)\n",
    "report3 = classification_report(y_test, predictions3)\n",
    "print(report3)"
   ]
  },
  {
   "cell_type": "markdown",
   "id": "f05c8971",
   "metadata": {},
   "source": [
    "With a threshold of 0.50, we are yielding a recall of 0.47 (520 out of 1101).  This means that we are missing out on 581 cases where we predicted No, but in actuality it was a Yes.  So if we lower the threshold, we can avoid missing out on these potential customers.  We are already doing pretty well on precision/recall for the class 0, so it wouldn't hurt the business to call a few more leads."
   ]
  },
  {
   "cell_type": "code",
   "execution_count": 48,
   "id": "0abc165c",
   "metadata": {},
   "outputs": [],
   "source": [
    "#Predictions part 3\n",
    "predictions3 = model3.predict(Test)\n",
    "predictions3 = np.where(predictions3 > 0.05, 1, 0) #lower threshold from 0.5 to 0.05"
   ]
  },
  {
   "cell_type": "code",
   "execution_count": 49,
   "id": "589e6e3d",
   "metadata": {},
   "outputs": [
    {
     "name": "stdout",
     "output_type": "stream",
     "text": [
      "[[6299 1643]\n",
      " [  63 1038]]\n",
      "              precision    recall  f1-score   support\n",
      "\n",
      "           0       0.99      0.79      0.88      7942\n",
      "           1       0.39      0.94      0.55      1101\n",
      "\n",
      "    accuracy                           0.81      9043\n",
      "   macro avg       0.69      0.87      0.71      9043\n",
      "weighted avg       0.92      0.81      0.84      9043\n",
      "\n"
     ]
    }
   ],
   "source": [
    "#Confusion Matrix\n",
    "confusion_matrix3 = confusion_matrix(y_test, predictions3)\n",
    "print(confusion_matrix3)\n",
    "report3 = classification_report(y_test, predictions3)\n",
    "print(report3)"
   ]
  },
  {
   "cell_type": "code",
   "execution_count": 41,
   "id": "4cf54fa4",
   "metadata": {},
   "outputs": [
    {
     "data": {
      "text/plain": [
       "<AxesSubplot:title={'center':'Feature importance'}, xlabel='F score', ylabel='Features'>"
      ]
     },
     "execution_count": 41,
     "metadata": {},
     "output_type": "execute_result"
    },
    {
     "data": {
      "image/png": "[encoded data removed]",
      "text/plain": [
       "<Figure size 432x288 with 1 Axes>"
      ]
     },
     "metadata": {
      "needs_background": "light"
     },
     "output_type": "display_data"
    }
   ],
   "source": [
    "#plot importances\n",
    "xgb.plot_importance(model3, max_num_features = 10)"
   ]
  },
  {
   "cell_type": "code",
   "execution_count": 43,
   "id": "1a449997",
   "metadata": {},
   "outputs": [
    {
     "data": {
      "image/png": "[encoded data removed]",
      "text/plain": [
       "<Figure size 576x396 with 2 Axes>"
      ]
     },
     "metadata": {
      "needs_background": "light"
     },
     "output_type": "display_data"
    }
   ],
   "source": [
    "#Preparing SHAP\n",
    "#pip install shap\n",
    "#conda install -c conda-forge shap\n",
    "import shap\n",
    "explainer = shap.TreeExplainer(model3)\n",
    "shap_values = explainer.shap_values(X_test)\n",
    "\n",
    "#shap plotting\n",
    "shap.summary_plot(shap_values,\n",
    "                  X_test,\n",
    "                  feature_names = feature_columns,\n",
    "                  max_display = 10)"
   ]
  },
  {
   "cell_type": "code",
   "execution_count": null,
   "id": "c1eaddb2",
   "metadata": {},
   "outputs": [],
   "source": []
  }
 ],
 "metadata": {
  "kernelspec": {
   "display_name": "Python 3 (ipykernel)",
   "language": "python",
   "name": "python3"
  },
  "language_info": {
   "codemirror_mode": {
    "name": "ipython",
    "version": 3
   },
   "file_extension": ".py",
   "mimetype": "text/x-python",
   "name": "python",
   "nbconvert_exporter": "python",
   "pygments_lexer": "ipython3",
   "version": "3.9.7"
  }
 },
 "nbformat": 4,
 "nbformat_minor": 5
}
